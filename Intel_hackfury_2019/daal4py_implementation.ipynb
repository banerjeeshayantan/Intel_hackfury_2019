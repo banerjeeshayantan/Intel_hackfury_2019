{
 "cells": [
  {
   "cell_type": "code",
   "execution_count": 96,
   "metadata": {},
   "outputs": [],
   "source": [
    "import daal4py as d4p\n",
    "import nltk\n",
    "import string\n",
    "import pandas as pd\n",
    "from sklearn.model_selection import train_test_split\n",
    "import seaborn as sns\n",
    "import matplotlib.pyplot as plt\n",
    "import pandas as pd\n",
    "import datetime\n",
    "import numpy as np\n",
    "from sklearn import preprocessing\n",
    "import seaborn as sns\n",
    "from sklearn.model_selection import RandomizedSearchCV\n",
    "from sklearn.svm import SVC\n",
    "from sklearn.model_selection import GridSearchCV\n",
    "import pandas as pd\n",
    "from sklearn.preprocessing import Imputer\n",
    "import numpy as np\n",
    "from sklearn.ensemble import RandomForestClassifier\n",
    "from sklearn.model_selection import GridSearchCV\n",
    "from sklearn.model_selection import train_test_split\n",
    "from sklearn.metrics import accuracy_score\n",
    "import matplotlib.pyplot as plt\n",
    "from sklearn.feature_selection import SelectFromModel\n",
    "from sklearn.ensemble import ExtraTreesClassifier\n",
    "from sklearn.ensemble import GradientBoostingClassifier\n",
    "from sklearn.ensemble import AdaBoostClassifier\n",
    "from sklearn.tree import DecisionTreeClassifier\n",
    "from sklearn.linear_model import LogisticRegression\n",
    "from sklearn.naive_bayes import MultinomialNB\n",
    "from sklearn.naive_bayes import GaussianNB\n",
    "from sklearn.svm import LinearSVC, SVC\n",
    "from sklearn import metrics\n",
    "from sklearn.neighbors import KNeighborsClassifier\n",
    "from sklearn.model_selection import cross_val_score\n",
    "from sklearn.model_selection import cross_validate\n",
    "from sklearn.model_selection import GridSearchCV\n",
    "from sklearn.ensemble import RandomForestClassifier, VotingClassifier\n",
    "from sklearn import preprocessing\n",
    "from sklearn.preprocessing import MinMaxScaler\n",
    "import pickle\n",
    "from sklearn.metrics import confusion_matrix\n",
    "from sklearn.utils import resample\n",
    "from imblearn.over_sampling import SMOTE\n",
    "from sklearn.metrics import classification_report\n",
    "from sklearn import metrics\n",
    "from sklearn.metrics import roc_curve, auc\n",
    "from sklearn.metrics import roc_auc_score\n",
    "from sklearn.model_selection import cross_val_predict\n",
    "from sklearn.model_selection import StratifiedKFold\n",
    "import numpy as np\n",
    "from sklearn.ensemble import RandomForestClassifier\n",
    "from sklearn import datasets\n",
    "from sklearn.model_selection import train_test_split\n",
    "from sklearn.feature_selection import SelectFromModel\n",
    "from sklearn.metrics import accuracy_score\n",
    "from sklearn.feature_selection import RFECV\n",
    "from sklearn.discriminant_analysis import LinearDiscriminantAnalysis\n",
    "from sklearn.discriminant_analysis import QuadraticDiscriminantAnalysis\n",
    "import scipy.stats as ss\n",
    "import itertools\n",
    "from sklearn.ensemble import RandomForestClassifier\n",
    "from sklearn.metrics import fbeta_score, make_scorer\n",
    "from sklearn.manifold import TSNE\n",
    "from sklearn.multiclass import OneVsRestClassifier\n",
    "from sklearn.model_selection import LeaveOneOut\n",
    "from sklearn.preprocessing import StandardScaler\n",
    "from sklearn.model_selection import KFold\n",
    "import scipy\n",
    "import numpy as np, scipy.stats as st\n",
    "from sklearn.model_selection import RepeatedStratifiedKFold\n",
    "from sklearn.neural_network import MLPClassifier\n",
    "from scipy import interp\n",
    "from collections import Counter\n",
    "# import warnings filter\n",
    "from warnings import simplefilter\n",
    "from imblearn.over_sampling import RandomOverSampler\n",
    "from imblearn.under_sampling import RandomUnderSampler\n",
    "# ignore all future warnings\n",
    "simplefilter(action='ignore', category=FutureWarning)\n",
    "from sklearn.neighbors import KNeighborsClassifier\n",
    "from sklearn.ensemble import BaggingClassifier\n",
    "from sklearn.metrics import balanced_accuracy_score\n",
    "\n",
    "from imblearn.datasets import fetch_datasets\n",
    "from imblearn.ensemble import BalancedBaggingClassifier\n",
    "from imblearn.ensemble import BalancedRandomForestClassifier\n",
    "from imblearn.ensemble import EasyEnsembleClassifier\n",
    "from imblearn.ensemble import RUSBoostClassifier\n",
    "from imblearn.metrics import geometric_mean_score\n",
    "import string\n",
    "import daal4py as dp\n",
    "from datetime import date\n",
    "import daal4py.sklearn as daalsk\n",
    "import daal4py.sklearn.ensemble as dsk_ensm\n",
    "import daal4py.sklearn.linear_model as dsk_linear\n",
    "\n"
   ]
  },
  {
   "cell_type": "code",
   "execution_count": 61,
   "metadata": {},
   "outputs": [
    {
     "name": "stderr",
     "output_type": "stream",
     "text": [
      "[nltk_data] Downloading package punkt to /home/shayantan/nltk_data...\n",
      "[nltk_data]   Package punkt is already up-to-date!\n"
     ]
    },
    {
     "data": {
      "text/plain": [
       "True"
      ]
     },
     "execution_count": 61,
     "metadata": {},
     "output_type": "execute_result"
    }
   ],
   "source": [
    "nltk.download('punkt')\n"
   ]
  },
  {
   "cell_type": "code",
   "execution_count": 62,
   "metadata": {},
   "outputs": [],
   "source": [
    "X_vitals=pd.read_csv('clinical_vitals(1).csv')\n",
    "y_vitals=pd.read_csv('labels.csv')\n",
    "X_vitals=X_vitals.drop('Unnamed: 0',axis=1)\n",
    "X_vitals['label']=y_vitals\n",
    "X_vitals = X_vitals.drop(['LABEL', 'SUBJECT_ID', 'HADM_ID', 'ADMITTIME', 'ETHNICITY', 'DOB','mortality_period'], 1)\n",
    "X_vitals = pd.get_dummies(X_vitals)\n",
    "#since SVM doesn't accept labels 0,1, i had to convert them to -1,1\n",
    "y_vitals = np.where(y_vitals == 0, -1, y_vitals)\n"
   ]
  },
  {
   "cell_type": "code",
   "execution_count": 80,
   "metadata": {},
   "outputs": [],
   "source": [
    "X_train, X_test, y_train, y_test = train_test_split(X_vitals, y_vitals, test_size=0.33, random_state=42,stratify=y_vitals)"
   ]
  },
  {
   "cell_type": "code",
   "execution_count": 81,
   "metadata": {},
   "outputs": [],
   "source": [
    "#applying smote\n",
    "sm = SMOTE(random_state=2)\n",
    "X_train_res, y_train_res = sm.fit_sample(X_train, y_train.ravel())\n"
   ]
  },
  {
   "cell_type": "code",
   "execution_count": 64,
   "metadata": {},
   "outputs": [],
   "source": [
    "#SVM\n",
    "train_model=d4p.svm_training(nClasses=2)\n",
    "train_result=train_model.compute(X_train,y_train)\n",
    "predict_algo = d4p.svm_prediction()\n",
    "predict_result = predict_algo.compute(X_test, train_result.model)\n"
   ]
  },
  {
   "cell_type": "code",
   "execution_count": 83,
   "metadata": {},
   "outputs": [
    {
     "name": "stdout",
     "output_type": "stream",
     "text": [
      "0.8797953964194374\n"
     ]
    }
   ],
   "source": [
    "clf_d = daalsk.svm.SVC().fit(X_train_res, y_train_res)\n",
    "print(clf_d.score(X_test, y_test)) "
   ]
  },
  {
   "cell_type": "code",
   "execution_count": 87,
   "metadata": {},
   "outputs": [
    {
     "name": "stdout",
     "output_type": "stream",
     "text": [
      "              precision    recall  f1-score   support\n",
      "\n",
      "          -1       0.97      0.88      0.93       339\n",
      "           1       0.53      0.85      0.65        52\n",
      "\n",
      "    accuracy                           0.88       391\n",
      "   macro avg       0.75      0.87      0.79       391\n",
      "weighted avg       0.91      0.88      0.89       391\n",
      "\n"
     ]
    },
    {
     "data": {
      "text/plain": [
       "0.8655547991831178"
      ]
     },
     "execution_count": 87,
     "metadata": {},
     "output_type": "execute_result"
    }
   ],
   "source": [
    "print(classification_report(clf_d.predict(X_test),y_test))\n",
    "roc_auc_score(clf_d.predict(X_test),y_test)"
   ]
  },
  {
   "cell_type": "code",
   "execution_count": 103,
   "metadata": {},
   "outputs": [],
   "source": [
    "#text features\n",
    "from scipy import sparse\n",
    "X_notes_tf = sparse.load_npz(\"text.npz\")\n"
   ]
  },
  {
   "cell_type": "code",
   "execution_count": 105,
   "metadata": {},
   "outputs": [],
   "source": [
    "#again splitting the notes into train/test\n",
    "X_train, X_test, y_train, y_test = train_test_split(X_notes_tf, y_vitals, test_size=0.33, random_state=42,stratify=y_vitals)"
   ]
  },
  {
   "cell_type": "code",
   "execution_count": 106,
   "metadata": {},
   "outputs": [],
   "source": [
    "#applying smote\n",
    "sm = SMOTE(random_state=2)\n",
    "X_train_res, y_train_res = sm.fit_sample(X_train, y_train.ravel())\n"
   ]
  },
  {
   "cell_type": "code",
   "execution_count": 107,
   "metadata": {},
   "outputs": [
    {
     "name": "stdout",
     "output_type": "stream",
     "text": [
      "0.9156010230179028\n"
     ]
    }
   ],
   "source": [
    "clf_d = daalsk.svm.SVC().fit(X_train_res, y_train_res)\n",
    "print(clf_d.score(X_test, y_test)) "
   ]
  },
  {
   "cell_type": "code",
   "execution_count": 108,
   "metadata": {},
   "outputs": [
    {
     "name": "stdout",
     "output_type": "stream",
     "text": [
      "              precision    recall  f1-score   support\n",
      "\n",
      "          -1       0.98      0.92      0.95       327\n",
      "           1       0.69      0.89      0.78        64\n",
      "\n",
      "    accuracy                           0.92       391\n",
      "   macro avg       0.83      0.91      0.86       391\n",
      "weighted avg       0.93      0.92      0.92       391\n",
      "\n"
     ]
    },
    {
     "data": {
      "text/plain": [
       "0.9055571483180428"
      ]
     },
     "execution_count": 108,
     "metadata": {},
     "output_type": "execute_result"
    }
   ],
   "source": [
    "print(classification_report(clf_d.predict(X_test),y_test))\n",
    "roc_auc_score(clf_d.predict(X_test),y_test)"
   ]
  },
  {
   "cell_type": "code",
   "execution_count": 110,
   "metadata": {},
   "outputs": [],
   "source": [
    "df = pd.DataFrame(X_notes_tf.toarray())"
   ]
  },
  {
   "cell_type": "code",
   "execution_count": 111,
   "metadata": {},
   "outputs": [],
   "source": [
    "#joint model\n",
    "df_c = pd.concat([X_vitals.reset_index(drop=True), df], axis=1)\n"
   ]
  },
  {
   "cell_type": "code",
   "execution_count": 112,
   "metadata": {},
   "outputs": [],
   "source": [
    "#again splitting the notes into train/test\n",
    "X_train, X_test, y_train, y_test = train_test_split(df_c, y_vitals, test_size=0.33, random_state=42,stratify=y_vitals)"
   ]
  },
  {
   "cell_type": "code",
   "execution_count": 113,
   "metadata": {},
   "outputs": [],
   "source": [
    "#applying smote\n",
    "sm = SMOTE(random_state=2)\n",
    "X_train_res, y_train_res = sm.fit_sample(X_train, y_train.ravel())\n"
   ]
  },
  {
   "cell_type": "code",
   "execution_count": 114,
   "metadata": {},
   "outputs": [
    {
     "name": "stdout",
     "output_type": "stream",
     "text": [
      "0.8721227621483376\n"
     ]
    }
   ],
   "source": [
    "clf_d = daalsk.svm.SVC().fit(X_train_res, y_train_res)\n",
    "print(clf_d.score(X_test, y_test)) "
   ]
  },
  {
   "cell_type": "code",
   "execution_count": 115,
   "metadata": {},
   "outputs": [
    {
     "name": "stdout",
     "output_type": "stream",
     "text": [
      "              precision    recall  f1-score   support\n",
      "\n",
      "          -1       0.98      0.87      0.92       348\n",
      "           1       0.46      0.88      0.60        43\n",
      "\n",
      "    accuracy                           0.87       391\n",
      "   macro avg       0.72      0.88      0.76       391\n",
      "weighted avg       0.93      0.87      0.89       391\n",
      "\n"
     ]
    },
    {
     "data": {
      "text/plain": [
       "0.877205292702486"
      ]
     },
     "execution_count": 115,
     "metadata": {},
     "output_type": "execute_result"
    }
   ],
   "source": [
    "print(classification_report(clf_d.predict(X_test),y_test))\n",
    "roc_auc_score(clf_d.predict(X_test),y_test)"
   ]
  },
  {
   "cell_type": "code",
   "execution_count": null,
   "metadata": {},
   "outputs": [],
   "source": []
  }
 ],
 "metadata": {
  "kernelspec": {
   "display_name": "daal4py",
   "language": "python",
   "name": "daal4py"
  },
  "language_info": {
   "codemirror_mode": {
    "name": "ipython",
    "version": 3
   },
   "file_extension": ".py",
   "mimetype": "text/x-python",
   "name": "python",
   "nbconvert_exporter": "python",
   "pygments_lexer": "ipython3",
   "version": "3.6.9"
  }
 },
 "nbformat": 4,
 "nbformat_minor": 2
}

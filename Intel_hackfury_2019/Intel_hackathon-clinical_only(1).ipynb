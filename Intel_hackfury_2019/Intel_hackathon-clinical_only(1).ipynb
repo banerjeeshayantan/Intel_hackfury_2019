{
 "cells": [
  {
   "cell_type": "code",
   "execution_count": 81,
   "metadata": {},
   "outputs": [],
   "source": [
    "import matplotlib.pyplot as plt\n",
    "import pandas as pd\n",
    "import datetime\n",
    "import numpy as np\n",
    "from sklearn import preprocessing\n",
    "import seaborn as sns\n",
    "from sklearn.model_selection import RandomizedSearchCV\n",
    "from sklearn.svm import SVC\n",
    "from sklearn.model_selection import GridSearchCV\n",
    "import pandas as pd\n",
    "from sklearn.preprocessing import Imputer\n",
    "import numpy as np\n",
    "from sklearn.ensemble import RandomForestClassifier\n",
    "from sklearn.model_selection import GridSearchCV\n",
    "from sklearn.model_selection import train_test_split\n",
    "from sklearn.metrics import accuracy_score\n",
    "import matplotlib.pyplot as plt\n",
    "from sklearn.feature_selection import SelectFromModel\n",
    "from sklearn.ensemble import ExtraTreesClassifier\n",
    "from sklearn.ensemble import GradientBoostingClassifier\n",
    "from sklearn.ensemble import AdaBoostClassifier\n",
    "from sklearn.tree import DecisionTreeClassifier\n",
    "from sklearn.linear_model import LogisticRegression\n",
    "from sklearn.naive_bayes import MultinomialNB\n",
    "from sklearn.naive_bayes import GaussianNB\n",
    "from sklearn.svm import LinearSVC, SVC\n",
    "from sklearn import metrics\n",
    "from sklearn.neighbors import KNeighborsClassifier\n",
    "from sklearn.model_selection import cross_val_score\n",
    "from sklearn.model_selection import cross_validate\n",
    "from sklearn.model_selection import GridSearchCV\n",
    "from sklearn.ensemble import RandomForestClassifier, VotingClassifier\n",
    "from sklearn import preprocessing\n",
    "from sklearn.preprocessing import MinMaxScaler\n",
    "import pickle\n",
    "from sklearn.metrics import confusion_matrix\n",
    "from sklearn.utils import resample\n",
    "from imblearn.over_sampling import SMOTE\n",
    "from sklearn.metrics import classification_report\n",
    "from sklearn import metrics\n",
    "from sklearn.metrics import roc_curve, auc\n",
    "from sklearn.metrics import roc_auc_score\n",
    "from sklearn.model_selection import cross_val_predict\n",
    "from sklearn.model_selection import StratifiedKFold\n",
    "import numpy as np\n",
    "from sklearn.ensemble import RandomForestClassifier\n",
    "from sklearn import datasets\n",
    "from sklearn.model_selection import train_test_split\n",
    "from sklearn.feature_selection import SelectFromModel\n",
    "from sklearn.metrics import accuracy_score\n",
    "from sklearn.feature_selection import RFECV\n",
    "from sklearn.discriminant_analysis import LinearDiscriminantAnalysis\n",
    "from sklearn.discriminant_analysis import QuadraticDiscriminantAnalysis\n",
    "import scipy.stats as ss\n",
    "import itertools\n",
    "from sklearn.ensemble import RandomForestClassifier\n",
    "from sklearn.metrics import fbeta_score, make_scorer\n",
    "from sklearn.manifold import TSNE\n",
    "from sklearn.multiclass import OneVsRestClassifier\n",
    "from sklearn.model_selection import LeaveOneOut\n",
    "import mifs\n",
    "from sklearn.preprocessing import StandardScaler\n",
    "from sklearn.model_selection import KFold\n",
    "import scipy\n",
    "import numpy as np, scipy.stats as st\n",
    "from sklearn.model_selection import RepeatedStratifiedKFold\n",
    "from sklearn.neural_network import MLPClassifier\n",
    "from scipy import interp\n",
    "from collections import Counter\n",
    "# import warnings filter\n",
    "from warnings import simplefilter\n",
    "from imblearn.over_sampling import RandomOverSampler\n",
    "from imblearn.under_sampling import RandomUnderSampler\n",
    "# ignore all future warnings\n",
    "simplefilter(action='ignore', category=FutureWarning)\n",
    "from sklearn.neighbors import KNeighborsClassifier\n",
    "from sklearn.ensemble import BaggingClassifier\n",
    "from sklearn.metrics import balanced_accuracy_score\n",
    "\n",
    "from imblearn.datasets import fetch_datasets\n",
    "from imblearn.ensemble import BalancedBaggingClassifier\n",
    "from imblearn.ensemble import BalancedRandomForestClassifier\n",
    "from imblearn.ensemble import EasyEnsembleClassifier\n",
    "from imblearn.ensemble import RUSBoostClassifier\n",
    "from imblearn.metrics import geometric_mean_score\n",
    "import string\n"
   ]
  },
  {
   "cell_type": "code",
   "execution_count": 3,
   "metadata": {},
   "outputs": [],
   "source": [
    "#load data from MIMIC 3\n",
    "admissions=pd.read_csv('ADMISSIONS.csv')\n",
    "patient=pd.read_csv('PATIENTS.csv')\n",
    "lab=pd.read_csv('LABEVENTS.csv')"
   ]
  },
  {
   "cell_type": "code",
   "execution_count": 82,
   "metadata": {},
   "outputs": [
    {
     "name": "stderr",
     "output_type": "stream",
     "text": [
      "/root/anaconda3/lib/python3.7/site-packages/IPython/core/interactiveshell.py:2785: DtypeWarning: Columns (4,5) have mixed types. Specify dtype option on import or set low_memory=False.\n",
      "  interactivity=interactivity, compiler=compiler, result=result)\n"
     ]
    }
   ],
   "source": [
    "notes=pd.read_csv('NOTEEVENTS.csv')"
   ]
  },
  {
   "cell_type": "code",
   "execution_count": 83,
   "metadata": {},
   "outputs": [],
   "source": [
    "# filter to discharge summary\n",
    "df_notes_dis_sum = notes.loc[notes.CATEGORY == 'Discharge summary']"
   ]
  },
  {
   "cell_type": "code",
   "execution_count": 84,
   "metadata": {},
   "outputs": [],
   "source": [
    "#group the notes by SUBJECT and HADM ID\n",
    "df_notes_dis_sum_last = (df_notes_dis_sum.groupby(['SUBJECT_ID','HADM_ID']).nth(-1)).reset_index()\n",
    "assert df_notes_dis_sum_last.duplicated(['HADM_ID']).sum() == 0, 'Multiple discharge summaries per admission'"
   ]
  },
  {
   "cell_type": "code",
   "execution_count": 85,
   "metadata": {},
   "outputs": [],
   "source": [
    "#subset admissions data for sepsis patients only\n",
    "admission_sepsis=admissions[admissions.DIAGNOSIS==\"SEPSIS\"]"
   ]
  },
  {
   "cell_type": "code",
   "execution_count": 86,
   "metadata": {},
   "outputs": [
    {
     "name": "stderr",
     "output_type": "stream",
     "text": [
      "/root/anaconda3/lib/python3.7/site-packages/joblib/externals/loky/backend/semaphore_tracker.py:74: UserWarning: semaphore_tracker: process died unexpectedly, relaunching.  Some semaphores might leak.\n",
      "  warnings.warn('semaphore_tracker: process died unexpectedly, '\n",
      "/root/anaconda3/lib/python3.7/site-packages/pandas/core/generic.py:4405: SettingWithCopyWarning: \n",
      "A value is trying to be set on a copy of a slice from a DataFrame.\n",
      "Try using .loc[row_indexer,col_indexer] = value instead\n",
      "\n",
      "See the caveats in the documentation: http://pandas.pydata.org/pandas-docs/stable/indexing.html#indexing-view-versus-copy\n",
      "  self[name] = value\n"
     ]
    }
   ],
   "source": [
    "admission_sepsis.ADMITTIME = pd.to_datetime(admission_sepsis.ADMITTIME, format = '%Y-%m-%d %H:%M:%S', errors = 'coerce')\n",
    "admission_sepsis.DISCHTIME = pd.to_datetime(admission_sepsis.DISCHTIME, format = '%Y-%m-%d %H:%M:%S', errors = 'coerce')\n",
    "admission_sepsis.DEATHTIME = pd.to_datetime(admission_sepsis.DEATHTIME, format = '%Y-%m-%d %H:%M:%S', errors = 'coerce')\n",
    "patient.DOB=pd.to_datetime(patient.DOB, format = '%Y-%m-%d %H:%M:%S', errors = 'coerce')\n",
    "lab.CHARTTIME=pd.to_datetime(lab.CHARTTIME, format = '%Y-%m-%d %H:%M:%S', errors = 'coerce')"
   ]
  },
  {
   "cell_type": "code",
   "execution_count": 87,
   "metadata": {},
   "outputs": [
    {
     "name": "stderr",
     "output_type": "stream",
     "text": [
      "/root/anaconda3/lib/python3.7/site-packages/ipykernel_launcher.py:1: SettingWithCopyWarning: \n",
      "A value is trying to be set on a copy of a slice from a DataFrame.\n",
      "Try using .loc[row_indexer,col_indexer] = value instead\n",
      "\n",
      "See the caveats in the documentation: http://pandas.pydata.org/pandas-docs/stable/indexing.html#indexing-view-versus-copy\n",
      "  \"\"\"Entry point for launching an IPython kernel.\n"
     ]
    }
   ],
   "source": [
    "admission_sepsis['mortality_period']=admission_sepsis.DEATHTIME-admission_sepsis.ADMITTIME"
   ]
  },
  {
   "cell_type": "code",
   "execution_count": 88,
   "metadata": {},
   "outputs": [],
   "source": [
    "adm_col = ['SUBJECT_ID', 'HADM_ID', 'ADMITTIME', 'ADMISSION_TYPE', 'INSURANCE', 'ETHNICITY', 'mortality_period']\n",
    "admission_sepsis = admission_sepsis[adm_col]\n",
    "admission_sepsis['mortality_period']=admission_sepsis['mortality_period'].dt.days\n"
   ]
  },
  {
   "cell_type": "code",
   "execution_count": 89,
   "metadata": {},
   "outputs": [],
   "source": [
    "admission_sepsis['LABEL'] = (admission_sepsis['mortality_period']< 30).astype('int')"
   ]
  },
  {
   "cell_type": "code",
   "execution_count": 90,
   "metadata": {},
   "outputs": [
    {
     "data": {
      "text/html": [
       "<div>\n",
       "<style scoped>\n",
       "    .dataframe tbody tr th:only-of-type {\n",
       "        vertical-align: middle;\n",
       "    }\n",
       "\n",
       "    .dataframe tbody tr th {\n",
       "        vertical-align: top;\n",
       "    }\n",
       "\n",
       "    .dataframe thead th {\n",
       "        text-align: right;\n",
       "    }\n",
       "</style>\n",
       "<table border=\"1\" class=\"dataframe\">\n",
       "  <thead>\n",
       "    <tr style=\"text-align: right;\">\n",
       "      <th></th>\n",
       "      <th>SUBJECT_ID</th>\n",
       "      <th>HADM_ID</th>\n",
       "      <th>ADMITTIME</th>\n",
       "      <th>ADMISSION_TYPE</th>\n",
       "      <th>INSURANCE</th>\n",
       "      <th>ETHNICITY</th>\n",
       "      <th>mortality_period</th>\n",
       "      <th>LABEL</th>\n",
       "    </tr>\n",
       "  </thead>\n",
       "  <tbody>\n",
       "    <tr>\n",
       "      <th>24</th>\n",
       "      <td>357</td>\n",
       "      <td>122609</td>\n",
       "      <td>2198-11-01 22:36:00</td>\n",
       "      <td>EMERGENCY</td>\n",
       "      <td>Private</td>\n",
       "      <td>WHITE</td>\n",
       "      <td>NaN</td>\n",
       "      <td>0</td>\n",
       "    </tr>\n",
       "    <tr>\n",
       "      <th>37</th>\n",
       "      <td>366</td>\n",
       "      <td>134462</td>\n",
       "      <td>2164-11-18 20:27:00</td>\n",
       "      <td>EMERGENCY</td>\n",
       "      <td>Medicare</td>\n",
       "      <td>HISPANIC OR LATINO</td>\n",
       "      <td>NaN</td>\n",
       "      <td>0</td>\n",
       "    </tr>\n",
       "    <tr>\n",
       "      <th>98</th>\n",
       "      <td>94</td>\n",
       "      <td>183686</td>\n",
       "      <td>2176-02-25 16:49:00</td>\n",
       "      <td>EMERGENCY</td>\n",
       "      <td>Medicare</td>\n",
       "      <td>ASIAN</td>\n",
       "      <td>NaN</td>\n",
       "      <td>0</td>\n",
       "    </tr>\n",
       "    <tr>\n",
       "      <th>230</th>\n",
       "      <td>21</td>\n",
       "      <td>111970</td>\n",
       "      <td>2135-01-30 20:50:00</td>\n",
       "      <td>EMERGENCY</td>\n",
       "      <td>Medicare</td>\n",
       "      <td>WHITE</td>\n",
       "      <td>8.0</td>\n",
       "      <td>1</td>\n",
       "    </tr>\n",
       "    <tr>\n",
       "      <th>300</th>\n",
       "      <td>353</td>\n",
       "      <td>108923</td>\n",
       "      <td>2151-03-28 16:01:00</td>\n",
       "      <td>EMERGENCY</td>\n",
       "      <td>Medicare</td>\n",
       "      <td>WHITE</td>\n",
       "      <td>NaN</td>\n",
       "      <td>0</td>\n",
       "    </tr>\n",
       "    <tr>\n",
       "      <th>302</th>\n",
       "      <td>353</td>\n",
       "      <td>131488</td>\n",
       "      <td>2151-10-01 20:42:00</td>\n",
       "      <td>EMERGENCY</td>\n",
       "      <td>Medicare</td>\n",
       "      <td>WHITE</td>\n",
       "      <td>NaN</td>\n",
       "      <td>0</td>\n",
       "    </tr>\n",
       "    <tr>\n",
       "      <th>363</th>\n",
       "      <td>507</td>\n",
       "      <td>148905</td>\n",
       "      <td>2146-06-22 00:58:00</td>\n",
       "      <td>EMERGENCY</td>\n",
       "      <td>Medicare</td>\n",
       "      <td>WHITE</td>\n",
       "      <td>NaN</td>\n",
       "      <td>0</td>\n",
       "    </tr>\n",
       "    <tr>\n",
       "      <th>409</th>\n",
       "      <td>406</td>\n",
       "      <td>113900</td>\n",
       "      <td>2119-08-25 22:37:00</td>\n",
       "      <td>EMERGENCY</td>\n",
       "      <td>Medicaid</td>\n",
       "      <td>WHITE</td>\n",
       "      <td>NaN</td>\n",
       "      <td>0</td>\n",
       "    </tr>\n",
       "    <tr>\n",
       "      <th>410</th>\n",
       "      <td>406</td>\n",
       "      <td>171178</td>\n",
       "      <td>2120-09-17 05:03:00</td>\n",
       "      <td>EMERGENCY</td>\n",
       "      <td>Medicaid</td>\n",
       "      <td>WHITE</td>\n",
       "      <td>NaN</td>\n",
       "      <td>0</td>\n",
       "    </tr>\n",
       "    <tr>\n",
       "      <th>412</th>\n",
       "      <td>406</td>\n",
       "      <td>100765</td>\n",
       "      <td>2126-03-11 23:06:00</td>\n",
       "      <td>EMERGENCY</td>\n",
       "      <td>Medicare</td>\n",
       "      <td>WHITE</td>\n",
       "      <td>NaN</td>\n",
       "      <td>0</td>\n",
       "    </tr>\n",
       "  </tbody>\n",
       "</table>\n",
       "</div>"
      ],
      "text/plain": [
       "     SUBJECT_ID  HADM_ID           ADMITTIME ADMISSION_TYPE INSURANCE  \\\n",
       "24          357   122609 2198-11-01 22:36:00      EMERGENCY   Private   \n",
       "37          366   134462 2164-11-18 20:27:00      EMERGENCY  Medicare   \n",
       "98           94   183686 2176-02-25 16:49:00      EMERGENCY  Medicare   \n",
       "230          21   111970 2135-01-30 20:50:00      EMERGENCY  Medicare   \n",
       "300         353   108923 2151-03-28 16:01:00      EMERGENCY  Medicare   \n",
       "302         353   131488 2151-10-01 20:42:00      EMERGENCY  Medicare   \n",
       "363         507   148905 2146-06-22 00:58:00      EMERGENCY  Medicare   \n",
       "409         406   113900 2119-08-25 22:37:00      EMERGENCY  Medicaid   \n",
       "410         406   171178 2120-09-17 05:03:00      EMERGENCY  Medicaid   \n",
       "412         406   100765 2126-03-11 23:06:00      EMERGENCY  Medicare   \n",
       "\n",
       "              ETHNICITY  mortality_period  LABEL  \n",
       "24                WHITE               NaN      0  \n",
       "37   HISPANIC OR LATINO               NaN      0  \n",
       "98                ASIAN               NaN      0  \n",
       "230               WHITE               8.0      1  \n",
       "300               WHITE               NaN      0  \n",
       "302               WHITE               NaN      0  \n",
       "363               WHITE               NaN      0  \n",
       "409               WHITE               NaN      0  \n",
       "410               WHITE               NaN      0  \n",
       "412               WHITE               NaN      0  "
      ]
     },
     "execution_count": 90,
     "metadata": {},
     "output_type": "execute_result"
    }
   ],
   "source": [
    "admission_sepsis.head(10)"
   ]
  },
  {
   "cell_type": "code",
   "execution_count": 91,
   "metadata": {},
   "outputs": [
    {
     "data": {
      "text/plain": [
       "0    932\n",
       "1    252\n",
       "Name: LABEL, dtype: int64"
      ]
     },
     "execution_count": 91,
     "metadata": {},
     "output_type": "execute_result"
    }
   ],
   "source": [
    "admission_sepsis.LABEL.value_counts()"
   ]
  },
  {
   "cell_type": "code",
   "execution_count": 92,
   "metadata": {},
   "outputs": [],
   "source": [
    "patients = patient[['SUBJECT_ID', 'GENDER', 'DOB']]"
   ]
  },
  {
   "cell_type": "code",
   "execution_count": 93,
   "metadata": {},
   "outputs": [],
   "source": [
    "patient_admission = admission_sepsis.join(patients.set_index('SUBJECT_ID'), on='SUBJECT_ID')"
   ]
  },
  {
   "cell_type": "code",
   "execution_count": 94,
   "metadata": {},
   "outputs": [],
   "source": [
    "patient_admission['age']=((patient_admission['ADMITTIME']-patient_admission['DOB']).dt.days)//365\n",
    "patient_admission['AGE']=patient_admission['age'].apply(lambda x: 91 if(x < 0) else x)\n",
    "patient_admission=patient_admission.drop('age',axis=1)"
   ]
  },
  {
   "cell_type": "code",
   "execution_count": 95,
   "metadata": {},
   "outputs": [
    {
     "data": {
      "text/html": [
       "<div>\n",
       "<style scoped>\n",
       "    .dataframe tbody tr th:only-of-type {\n",
       "        vertical-align: middle;\n",
       "    }\n",
       "\n",
       "    .dataframe tbody tr th {\n",
       "        vertical-align: top;\n",
       "    }\n",
       "\n",
       "    .dataframe thead th {\n",
       "        text-align: right;\n",
       "    }\n",
       "</style>\n",
       "<table border=\"1\" class=\"dataframe\">\n",
       "  <thead>\n",
       "    <tr style=\"text-align: right;\">\n",
       "      <th></th>\n",
       "      <th>SUBJECT_ID</th>\n",
       "      <th>HADM_ID</th>\n",
       "      <th>ADMITTIME</th>\n",
       "      <th>ADMISSION_TYPE</th>\n",
       "      <th>INSURANCE</th>\n",
       "      <th>ETHNICITY</th>\n",
       "      <th>mortality_period</th>\n",
       "      <th>LABEL</th>\n",
       "      <th>GENDER</th>\n",
       "      <th>DOB</th>\n",
       "      <th>AGE</th>\n",
       "    </tr>\n",
       "  </thead>\n",
       "  <tbody>\n",
       "    <tr>\n",
       "      <th>24</th>\n",
       "      <td>357</td>\n",
       "      <td>122609</td>\n",
       "      <td>2198-11-01 22:36:00</td>\n",
       "      <td>EMERGENCY</td>\n",
       "      <td>Private</td>\n",
       "      <td>WHITE</td>\n",
       "      <td>NaN</td>\n",
       "      <td>0</td>\n",
       "      <td>M</td>\n",
       "      <td>2135-03-22</td>\n",
       "      <td>63</td>\n",
       "    </tr>\n",
       "    <tr>\n",
       "      <th>37</th>\n",
       "      <td>366</td>\n",
       "      <td>134462</td>\n",
       "      <td>2164-11-18 20:27:00</td>\n",
       "      <td>EMERGENCY</td>\n",
       "      <td>Medicare</td>\n",
       "      <td>HISPANIC OR LATINO</td>\n",
       "      <td>NaN</td>\n",
       "      <td>0</td>\n",
       "      <td>M</td>\n",
       "      <td>2112-05-22</td>\n",
       "      <td>52</td>\n",
       "    </tr>\n",
       "    <tr>\n",
       "      <th>98</th>\n",
       "      <td>94</td>\n",
       "      <td>183686</td>\n",
       "      <td>2176-02-25 16:49:00</td>\n",
       "      <td>EMERGENCY</td>\n",
       "      <td>Medicare</td>\n",
       "      <td>ASIAN</td>\n",
       "      <td>NaN</td>\n",
       "      <td>0</td>\n",
       "      <td>M</td>\n",
       "      <td>2101-09-20</td>\n",
       "      <td>74</td>\n",
       "    </tr>\n",
       "  </tbody>\n",
       "</table>\n",
       "</div>"
      ],
      "text/plain": [
       "    SUBJECT_ID  HADM_ID           ADMITTIME ADMISSION_TYPE INSURANCE  \\\n",
       "24         357   122609 2198-11-01 22:36:00      EMERGENCY   Private   \n",
       "37         366   134462 2164-11-18 20:27:00      EMERGENCY  Medicare   \n",
       "98          94   183686 2176-02-25 16:49:00      EMERGENCY  Medicare   \n",
       "\n",
       "             ETHNICITY  mortality_period  LABEL GENDER        DOB  AGE  \n",
       "24               WHITE               NaN      0      M 2135-03-22   63  \n",
       "37  HISPANIC OR LATINO               NaN      0      M 2112-05-22   52  \n",
       "98               ASIAN               NaN      0      M 2101-09-20   74  "
      ]
     },
     "execution_count": 95,
     "metadata": {},
     "output_type": "execute_result"
    }
   ],
   "source": [
    "patient_admission.head(3)"
   ]
  },
  {
   "cell_type": "code",
   "execution_count": 96,
   "metadata": {},
   "outputs": [],
   "source": [
    "positive = patient_admission[patient_admission['LABEL'] == 0]\n",
    "negative = patient_admission[patient_admission['LABEL'] == 1]"
   ]
  },
  {
   "cell_type": "code",
   "execution_count": 97,
   "metadata": {},
   "outputs": [
    {
     "name": "stderr",
     "output_type": "stream",
     "text": [
      "/root/anaconda3/lib/python3.7/site-packages/matplotlib/axes/_axes.py:6571: UserWarning: The 'normed' kwarg is deprecated, and has been replaced by the 'density' kwarg.\n",
      "  warnings.warn(\"The 'normed' kwarg is deprecated, and has been \"\n"
     ]
    },
    {
     "data": {
      "text/plain": [
       "<matplotlib.legend.Legend at 0x7f0fc2920a58>"
      ]
     },
     "execution_count": 97,
     "metadata": {},
     "output_type": "execute_result"
    },
    {
     "data": {
      "image/png": "[encoded data removed]",
      "text/plain": [
       "<Figure size 720x720 with 1 Axes>"
      ]
     },
     "metadata": {
      "needs_background": "light"
     },
     "output_type": "display_data"
    }
   ],
   "source": [
    "plt.figure(figsize=(10,10))\n",
    "plt.hist([positive['AGE'],negative['AGE']], bins=20, alpha=0.8, normed=True, label=['Alive','Dead'])\n",
    "plt.title('Relationship between age and mortality')\n",
    "plt.xlabel('Years')\n",
    "plt.ylabel('Ratio')\n",
    "plt.legend(loc='upper left')"
   ]
  },
  {
   "cell_type": "code",
   "execution_count": 98,
   "metadata": {},
   "outputs": [
    {
     "name": "stderr",
     "output_type": "stream",
     "text": [
      "/root/anaconda3/lib/python3.7/site-packages/matplotlib/axes/_axes.py:6571: UserWarning: The 'normed' kwarg is deprecated, and has been replaced by the 'density' kwarg.\n",
      "  warnings.warn(\"The 'normed' kwarg is deprecated, and has been \"\n"
     ]
    },
    {
     "data": {
      "text/plain": [
       "<matplotlib.legend.Legend at 0x7f0fc5e730f0>"
      ]
     },
     "execution_count": 98,
     "metadata": {},
     "output_type": "execute_result"
    },
    {
     "data": {
      "image/png": "[encoded data removed]",
      "text/plain": [
       "<Figure size 720x720 with 1 Axes>"
      ]
     },
     "metadata": {
      "needs_background": "light"
     },
     "output_type": "display_data"
    }
   ],
   "source": [
    "plt.figure(figsize=(10,10))\n",
    "plt.hist([positive['INSURANCE'],negative['INSURANCE']], bins=10, alpha=0.9, normed=False, label=['Alive','Dead'])\n",
    "plt.title('Relationship between insurance type and mortality')\n",
    "plt.xlabel('Insurance type')\n",
    "plt.ylabel('Ratio')\n",
    "plt.legend(loc='upper left')"
   ]
  },
  {
   "cell_type": "code",
   "execution_count": 99,
   "metadata": {},
   "outputs": [],
   "source": [
    "vitals={50882: 'bicarbonate' ,51237: 'INR' ,51248: 'MCH' ,50878: 'AST', 50863: 'alkaline phosphatase' ,50820: 'PH', 50912: 'creatinine', 51265: 'platelet', 51275: 'PT', 51274: 'PTT', 51244: 'lymphocytes', 51277:'RBCDW', 50893: 'calcium', 51256: 'neutrophils', 50931: 'glucose', 51221: 'hematocrit', 51222: 'hemoglobin', 50813: 'lactate', 51006: 'BUN'}"
   ]
  },
  {
   "cell_type": "code",
   "execution_count": 100,
   "metadata": {},
   "outputs": [],
   "source": [
    "adm_id = patient_admission.HADM_ID.tolist()\n",
    "lab_events=lab[lab['HADM_ID'].isin(adm_id)]\n",
    "lab_events_1=lab_events[lab_events['ITEMID'].isin(vitals.keys())]"
   ]
  },
  {
   "cell_type": "code",
   "execution_count": 101,
   "metadata": {},
   "outputs": [],
   "source": [
    "lab_events_1=lab_events_1.groupby('HADM_ID')"
   ]
  },
  {
   "cell_type": "code",
   "execution_count": 102,
   "metadata": {},
   "outputs": [
    {
     "data": {
      "text/html": [
       "<div>\n",
       "<style scoped>\n",
       "    .dataframe tbody tr th:only-of-type {\n",
       "        vertical-align: middle;\n",
       "    }\n",
       "\n",
       "    .dataframe tbody tr th {\n",
       "        vertical-align: top;\n",
       "    }\n",
       "\n",
       "    .dataframe thead th {\n",
       "        text-align: right;\n",
       "    }\n",
       "</style>\n",
       "<table border=\"1\" class=\"dataframe\">\n",
       "  <thead>\n",
       "    <tr style=\"text-align: right;\">\n",
       "      <th></th>\n",
       "      <th>SUBJECT_ID</th>\n",
       "      <th>HADM_ID</th>\n",
       "      <th>ADMITTIME</th>\n",
       "      <th>ADMISSION_TYPE</th>\n",
       "      <th>INSURANCE</th>\n",
       "      <th>ETHNICITY</th>\n",
       "      <th>mortality_period</th>\n",
       "      <th>LABEL</th>\n",
       "      <th>GENDER</th>\n",
       "      <th>DOB</th>\n",
       "      <th>AGE</th>\n",
       "    </tr>\n",
       "  </thead>\n",
       "  <tbody>\n",
       "    <tr>\n",
       "      <th>24</th>\n",
       "      <td>357</td>\n",
       "      <td>122609</td>\n",
       "      <td>2198-11-01 22:36:00</td>\n",
       "      <td>EMERGENCY</td>\n",
       "      <td>Private</td>\n",
       "      <td>WHITE</td>\n",
       "      <td>NaN</td>\n",
       "      <td>0</td>\n",
       "      <td>M</td>\n",
       "      <td>2135-03-22</td>\n",
       "      <td>63</td>\n",
       "    </tr>\n",
       "    <tr>\n",
       "      <th>37</th>\n",
       "      <td>366</td>\n",
       "      <td>134462</td>\n",
       "      <td>2164-11-18 20:27:00</td>\n",
       "      <td>EMERGENCY</td>\n",
       "      <td>Medicare</td>\n",
       "      <td>HISPANIC OR LATINO</td>\n",
       "      <td>NaN</td>\n",
       "      <td>0</td>\n",
       "      <td>M</td>\n",
       "      <td>2112-05-22</td>\n",
       "      <td>52</td>\n",
       "    </tr>\n",
       "    <tr>\n",
       "      <th>98</th>\n",
       "      <td>94</td>\n",
       "      <td>183686</td>\n",
       "      <td>2176-02-25 16:49:00</td>\n",
       "      <td>EMERGENCY</td>\n",
       "      <td>Medicare</td>\n",
       "      <td>ASIAN</td>\n",
       "      <td>NaN</td>\n",
       "      <td>0</td>\n",
       "      <td>M</td>\n",
       "      <td>2101-09-20</td>\n",
       "      <td>74</td>\n",
       "    </tr>\n",
       "  </tbody>\n",
       "</table>\n",
       "</div>"
      ],
      "text/plain": [
       "    SUBJECT_ID  HADM_ID           ADMITTIME ADMISSION_TYPE INSURANCE  \\\n",
       "24         357   122609 2198-11-01 22:36:00      EMERGENCY   Private   \n",
       "37         366   134462 2164-11-18 20:27:00      EMERGENCY  Medicare   \n",
       "98          94   183686 2176-02-25 16:49:00      EMERGENCY  Medicare   \n",
       "\n",
       "             ETHNICITY  mortality_period  LABEL GENDER        DOB  AGE  \n",
       "24               WHITE               NaN      0      M 2135-03-22   63  \n",
       "37  HISPANIC OR LATINO               NaN      0      M 2112-05-22   52  \n",
       "98               ASIAN               NaN      0      M 2101-09-20   74  "
      ]
     },
     "execution_count": 102,
     "metadata": {},
     "output_type": "execute_result"
    }
   ],
   "source": [
    "patient_admission.head(3)"
   ]
  },
  {
   "cell_type": "code",
   "execution_count": 103,
   "metadata": {},
   "outputs": [],
   "source": [
    "# Prepare joining copy of patient vitals\n",
    "patient_vitals = patient_admission[['HADM_ID']].copy()\n",
    "for value in vitals.values():\n",
    "    patient_vitals[value] = np.nan\n",
    "    \n",
    "patient_vitals = patient_vitals.set_index('HADM_ID')\n",
    "\n"
   ]
  },
  {
   "cell_type": "code",
   "execution_count": 104,
   "metadata": {},
   "outputs": [
    {
     "data": {
      "text/html": [
       "<div>\n",
       "<style scoped>\n",
       "    .dataframe tbody tr th:only-of-type {\n",
       "        vertical-align: middle;\n",
       "    }\n",
       "\n",
       "    .dataframe tbody tr th {\n",
       "        vertical-align: top;\n",
       "    }\n",
       "\n",
       "    .dataframe thead th {\n",
       "        text-align: right;\n",
       "    }\n",
       "</style>\n",
       "<table border=\"1\" class=\"dataframe\">\n",
       "  <thead>\n",
       "    <tr style=\"text-align: right;\">\n",
       "      <th></th>\n",
       "      <th>bicarbonate</th>\n",
       "      <th>INR</th>\n",
       "      <th>MCH</th>\n",
       "      <th>AST</th>\n",
       "      <th>alkaline phosphatase</th>\n",
       "      <th>PH</th>\n",
       "      <th>creatinine</th>\n",
       "      <th>platelet</th>\n",
       "      <th>PT</th>\n",
       "      <th>PTT</th>\n",
       "      <th>lymphocytes</th>\n",
       "      <th>RBCDW</th>\n",
       "      <th>calcium</th>\n",
       "      <th>neutrophils</th>\n",
       "      <th>glucose</th>\n",
       "      <th>hematocrit</th>\n",
       "      <th>hemoglobin</th>\n",
       "      <th>lactate</th>\n",
       "      <th>BUN</th>\n",
       "    </tr>\n",
       "    <tr>\n",
       "      <th>HADM_ID</th>\n",
       "      <th></th>\n",
       "      <th></th>\n",
       "      <th></th>\n",
       "      <th></th>\n",
       "      <th></th>\n",
       "      <th></th>\n",
       "      <th></th>\n",
       "      <th></th>\n",
       "      <th></th>\n",
       "      <th></th>\n",
       "      <th></th>\n",
       "      <th></th>\n",
       "      <th></th>\n",
       "      <th></th>\n",
       "      <th></th>\n",
       "      <th></th>\n",
       "      <th></th>\n",
       "      <th></th>\n",
       "      <th></th>\n",
       "    </tr>\n",
       "  </thead>\n",
       "  <tbody>\n",
       "    <tr>\n",
       "      <th>122609</th>\n",
       "      <td>NaN</td>\n",
       "      <td>NaN</td>\n",
       "      <td>NaN</td>\n",
       "      <td>NaN</td>\n",
       "      <td>NaN</td>\n",
       "      <td>NaN</td>\n",
       "      <td>NaN</td>\n",
       "      <td>NaN</td>\n",
       "      <td>NaN</td>\n",
       "      <td>NaN</td>\n",
       "      <td>NaN</td>\n",
       "      <td>NaN</td>\n",
       "      <td>NaN</td>\n",
       "      <td>NaN</td>\n",
       "      <td>NaN</td>\n",
       "      <td>NaN</td>\n",
       "      <td>NaN</td>\n",
       "      <td>NaN</td>\n",
       "      <td>NaN</td>\n",
       "    </tr>\n",
       "    <tr>\n",
       "      <th>134462</th>\n",
       "      <td>NaN</td>\n",
       "      <td>NaN</td>\n",
       "      <td>NaN</td>\n",
       "      <td>NaN</td>\n",
       "      <td>NaN</td>\n",
       "      <td>NaN</td>\n",
       "      <td>NaN</td>\n",
       "      <td>NaN</td>\n",
       "      <td>NaN</td>\n",
       "      <td>NaN</td>\n",
       "      <td>NaN</td>\n",
       "      <td>NaN</td>\n",
       "      <td>NaN</td>\n",
       "      <td>NaN</td>\n",
       "      <td>NaN</td>\n",
       "      <td>NaN</td>\n",
       "      <td>NaN</td>\n",
       "      <td>NaN</td>\n",
       "      <td>NaN</td>\n",
       "    </tr>\n",
       "    <tr>\n",
       "      <th>183686</th>\n",
       "      <td>NaN</td>\n",
       "      <td>NaN</td>\n",
       "      <td>NaN</td>\n",
       "      <td>NaN</td>\n",
       "      <td>NaN</td>\n",
       "      <td>NaN</td>\n",
       "      <td>NaN</td>\n",
       "      <td>NaN</td>\n",
       "      <td>NaN</td>\n",
       "      <td>NaN</td>\n",
       "      <td>NaN</td>\n",
       "      <td>NaN</td>\n",
       "      <td>NaN</td>\n",
       "      <td>NaN</td>\n",
       "      <td>NaN</td>\n",
       "      <td>NaN</td>\n",
       "      <td>NaN</td>\n",
       "      <td>NaN</td>\n",
       "      <td>NaN</td>\n",
       "    </tr>\n",
       "  </tbody>\n",
       "</table>\n",
       "</div>"
      ],
      "text/plain": [
       "         bicarbonate  INR  MCH  AST  alkaline phosphatase  PH  creatinine  \\\n",
       "HADM_ID                                                                     \n",
       "122609           NaN  NaN  NaN  NaN                   NaN NaN         NaN   \n",
       "134462           NaN  NaN  NaN  NaN                   NaN NaN         NaN   \n",
       "183686           NaN  NaN  NaN  NaN                   NaN NaN         NaN   \n",
       "\n",
       "         platelet  PT  PTT  lymphocytes  RBCDW  calcium  neutrophils  glucose  \\\n",
       "HADM_ID                                                                         \n",
       "122609        NaN NaN  NaN          NaN    NaN      NaN          NaN      NaN   \n",
       "134462        NaN NaN  NaN          NaN    NaN      NaN          NaN      NaN   \n",
       "183686        NaN NaN  NaN          NaN    NaN      NaN          NaN      NaN   \n",
       "\n",
       "         hematocrit  hemoglobin  lactate  BUN  \n",
       "HADM_ID                                        \n",
       "122609          NaN         NaN      NaN  NaN  \n",
       "134462          NaN         NaN      NaN  NaN  \n",
       "183686          NaN         NaN      NaN  NaN  "
      ]
     },
     "execution_count": 104,
     "metadata": {},
     "output_type": "execute_result"
    }
   ],
   "source": [
    "patient_vitals.head(3)"
   ]
  },
  {
   "cell_type": "code",
   "execution_count": 105,
   "metadata": {},
   "outputs": [],
   "source": [
    "def resp_adjust(value):\n",
    "    return max([int(x) for x in value.split('/') if x.isdigit()])"
   ]
  },
  {
   "cell_type": "code",
   "execution_count": 106,
   "metadata": {},
   "outputs": [
    {
     "name": "stderr",
     "output_type": "stream",
     "text": [
      "/root/anaconda3/lib/python3.7/site-packages/ipykernel_launcher.py:14: RuntimeWarning: Mean of empty slice.\n",
      "  \n",
      "/root/anaconda3/lib/python3.7/site-packages/numpy/core/_methods.py:85: RuntimeWarning: invalid value encountered in double_scalars\n",
      "  ret = ret.dtype.type(ret / rcount)\n"
     ]
    }
   ],
   "source": [
    "aday = pd.Timedelta('1 days')\n",
    "# Each hospital stay, think of it as an individual patient (though technically not true)\n",
    "for HADM_ID, group in lab_events_1:\n",
    "    sub_groups = group.groupby('ITEMID')\n",
    "    admittance_time = patient_admission.loc[patient_admission.HADM_ID==HADM_ID]['ADMITTIME'].values[0]\n",
    "    # Each lab item type\n",
    "    for lab_item, sub_group in sub_groups:\n",
    "        day_results = sub_group[((sub_group.CHARTTIME - admittance_time) < aday)]\n",
    "        # Unfortunate special case: If dirty respitory rate value, clean         \n",
    "        if lab_item == 50827:\n",
    "            cleaned_resp = map(resp_adjust, day_results['value'])\n",
    "            mean =  np.mean(cleaned_resp)\n",
    "        else:\n",
    "            mean = day_results['VALUENUM'].values.mean()\n",
    "        patient_vitals.set_value(HADM_ID, vitals[lab_item], mean)\n"
   ]
  },
  {
   "cell_type": "code",
   "execution_count": 115,
   "metadata": {},
   "outputs": [],
   "source": [
    "admission_lab=patient_admission.merge(patient_vitals, on='HADM_ID')"
   ]
  },
  {
   "cell_type": "code",
   "execution_count": 116,
   "metadata": {},
   "outputs": [],
   "source": [
    "stdsc = preprocessing.StandardScaler()\n",
    "admission_lab[list(vitals.values())] = stdsc.fit_transform(admission_lab[list(vitals.values())])\n",
    "admission_lab = admission_lab.fillna(patient_vitals.mean())"
   ]
  },
  {
   "cell_type": "code",
   "execution_count": 117,
   "metadata": {},
   "outputs": [],
   "source": [
    "vital_columns =list(vitals.values())[:]\n",
    "vital_columns.extend(['mortality_period'])\n",
    "vitals_only = admission_lab[vital_columns]"
   ]
  },
  {
   "cell_type": "code",
   "execution_count": 118,
   "metadata": {},
   "outputs": [
    {
     "data": {
      "text/plain": [
       "<Figure size 1440x1440 with 0 Axes>"
      ]
     },
     "metadata": {},
     "output_type": "display_data"
    },
    {
     "data": {
      "image/png": "[encoded data removed]",
      "text/plain": [
       "<Figure size 288x288 with 1 Axes>"
      ]
     },
     "metadata": {
      "needs_background": "light"
     },
     "output_type": "display_data"
    }
   ],
   "source": [
    "plt.figure(figsize=(20,20))\n",
    "plt.matshow(vitals_only.corr())\n",
    "plt.xticks(range(vitals_only.shape[1]),vitals_only.columns, fontsize=14, rotation=90)\n",
    "plt.yticks(range(vitals_only.shape[1]), vitals_only.columns, fontsize=14)\n",
    "plt.show()"
   ]
  },
  {
   "cell_type": "code",
   "execution_count": 32,
   "metadata": {},
   "outputs": [],
   "source": [
    "#Learning models (using clinical and lab measurements features only)"
   ]
  },
  {
   "cell_type": "code",
   "execution_count": 35,
   "metadata": {},
   "outputs": [],
   "source": [
    "y_vitals = admission_lab['LABEL']\n",
    "X_vitals = admission_lab.drop(['LABEL', 'SUBJECT_ID', 'HADM_ID', 'ADMITTIME', 'ETHNICITY', 'DOB','mortality_period'], 1)\n",
    "X_vitals = pd.get_dummies(X_vitals)"
   ]
  },
  {
   "cell_type": "code",
   "execution_count": 119,
   "metadata": {},
   "outputs": [],
   "source": [
    "admission_lab.to_csv('clinical_vitals.csv')\n",
    "y_vitals.to_csv('labels.csv')"
   ]
  },
  {
   "cell_type": "code",
   "execution_count": 39,
   "metadata": {},
   "outputs": [],
   "source": [
    "#Random forests\n",
    "param_grid = {\"n_estimators\": [200,400,600,800],'max_features': ['auto', 'sqrt', 'log2'],\n",
    "    'max_depth' : [4,5,6,7],\n",
    "    'criterion' :['gini', 'entropy']}\n",
    "\n",
    "forest = RandomForestClassifier( random_state=42)"
   ]
  },
  {
   "cell_type": "code",
   "execution_count": 40,
   "metadata": {},
   "outputs": [
    {
     "data": {
      "text/plain": [
       "GridSearchCV(cv=10, error_score='raise-deprecating',\n",
       "       estimator=RandomForestClassifier(bootstrap=True, class_weight=None, criterion='gini',\n",
       "            max_depth=None, max_features='auto', max_leaf_nodes=None,\n",
       "            min_impurity_decrease=0.0, min_impurity_split=None,\n",
       "            min_samples_leaf=1, min_samples_split=2,\n",
       "            min_weight_fraction_leaf=0.0, n_estimators='warn', n_jobs=None,\n",
       "            oob_score=False, random_state=42, verbose=0, warm_start=False),\n",
       "       fit_params=None, iid='warn', n_jobs=None,\n",
       "       param_grid={'n_estimators': [200, 400, 600, 800], 'max_features': ['auto', 'sqrt', 'log2'], 'max_depth': [4, 5, 6, 7], 'criterion': ['gini', 'entropy']},\n",
       "       pre_dispatch='2*n_jobs', refit=True, return_train_score='warn',\n",
       "       scoring='roc_auc', verbose=0)"
      ]
     },
     "execution_count": 40,
     "metadata": {},
     "output_type": "execute_result"
    }
   ],
   "source": [
    "rand_for = GridSearchCV(forest, param_grid, scoring = 'roc_auc',cv=10)\n",
    "rand_for.fit(X_vitals,y_vitals)"
   ]
  },
  {
   "cell_type": "code",
   "execution_count": 41,
   "metadata": {},
   "outputs": [
    {
     "data": {
      "text/plain": [
       "{'criterion': 'gini',\n",
       " 'max_depth': 7,\n",
       " 'max_features': 'auto',\n",
       " 'n_estimators': 600}"
      ]
     },
     "execution_count": 41,
     "metadata": {},
     "output_type": "execute_result"
    }
   ],
   "source": [
    "rand_for.best_params_"
   ]
  },
  {
   "cell_type": "code",
   "execution_count": 42,
   "metadata": {},
   "outputs": [
    {
     "data": {
      "text/plain": [
       "0.8163518531466369"
      ]
     },
     "execution_count": 42,
     "metadata": {},
     "output_type": "execute_result"
    }
   ],
   "source": [
    "rand_for.best_score_"
   ]
  },
  {
   "cell_type": "code",
   "execution_count": 43,
   "metadata": {},
   "outputs": [
    {
     "name": "stderr",
     "output_type": "stream",
     "text": [
      "/root/anaconda3/lib/python3.7/site-packages/sklearn/model_selection/_search.py:841: DeprecationWarning: The default of the `iid` parameter will change from True to False in version 0.22 and will be removed in 0.24. This will change numeric results when test-set sizes are unequal.\n",
      "  DeprecationWarning)\n"
     ]
    },
    {
     "data": {
      "text/plain": [
       "GridSearchCV(cv=10, error_score='raise-deprecating',\n",
       "       estimator=DecisionTreeClassifier(class_weight=None, criterion='gini', max_depth=None,\n",
       "            max_features=None, max_leaf_nodes=None,\n",
       "            min_impurity_decrease=0.0, min_impurity_split=None,\n",
       "            min_samples_leaf=1, min_samples_split=2,\n",
       "            min_weight_fraction_leaf=0.0, presort=False, random_state=None,\n",
       "            splitter='best'),\n",
       "       fit_params=None, iid='warn', n_jobs=None,\n",
       "       param_grid={'min_samples_split': range(10, 500, 20), 'max_depth': range(1, 20, 2)},\n",
       "       pre_dispatch='2*n_jobs', refit=True, return_train_score='warn',\n",
       "       scoring='roc_auc', verbose=0)"
      ]
     },
     "execution_count": 43,
     "metadata": {},
     "output_type": "execute_result"
    }
   ],
   "source": [
    "#Decision trees\n",
    "parameters={'min_samples_split' : range(10,500,20),'max_depth': range(1,20,2)}\n",
    "clf_dt = GridSearchCV(DecisionTreeClassifier(), parameters, cv=10,scoring=\"roc_auc\")\n",
    "clf_dt.fit(X_vitals,y_vitals)"
   ]
  },
  {
   "cell_type": "code",
   "execution_count": 44,
   "metadata": {},
   "outputs": [
    {
     "data": {
      "text/plain": [
       "{'max_depth': 5, 'min_samples_split': 110}"
      ]
     },
     "execution_count": 44,
     "metadata": {},
     "output_type": "execute_result"
    }
   ],
   "source": [
    "clf_dt.best_params_"
   ]
  },
  {
   "cell_type": "code",
   "execution_count": 45,
   "metadata": {},
   "outputs": [
    {
     "data": {
      "text/plain": [
       "0.7509991273280567"
      ]
     },
     "execution_count": 45,
     "metadata": {},
     "output_type": "execute_result"
    }
   ],
   "source": [
    "clf_dt.best_score_"
   ]
  },
  {
   "cell_type": "code",
   "execution_count": 46,
   "metadata": {},
   "outputs": [
    {
     "data": {
      "text/plain": [
       "GridSearchCV(cv=10, error_score='raise-deprecating',\n",
       "       estimator=LogisticRegression(C=1.0, class_weight=None, dual=False, fit_intercept=True,\n",
       "          intercept_scaling=1, max_iter=100, multi_class='warn',\n",
       "          n_jobs=None, penalty='l2', random_state=None, solver='warn',\n",
       "          tol=0.0001, verbose=0, warm_start=False),\n",
       "       fit_params=None, iid='warn', n_jobs=None,\n",
       "       param_grid={'C': array([1.00000e-03, 4.64159e-03, 2.15443e-02, 1.00000e-01, 4.64159e-01,\n",
       "       2.15443e+00, 1.00000e+01, 4.64159e+01, 2.15443e+02, 1.00000e+03]), 'penalty': ['l1', 'l2']},\n",
       "       pre_dispatch='2*n_jobs', refit=True, return_train_score='warn',\n",
       "       scoring='roc_auc', verbose=0)"
      ]
     },
     "execution_count": 46,
     "metadata": {},
     "output_type": "execute_result"
    }
   ],
   "source": [
    "#Logistic regression\n",
    "logreg=LogisticRegression()\n",
    "penalty = ['l1', 'l2']\n",
    "# Create regularization hyperparameter space\n",
    "C = np.logspace(-3, 3, 10)\n",
    "# Create hyperparameter options\n",
    "hyperparameters = dict(C=C, penalty=penalty)\n",
    "clf_logit = GridSearchCV(logreg, hyperparameters, cv=10, verbose=0,scoring=\"roc_auc\")\n",
    "clf_logit.fit(X_vitals,y_vitals)\n"
   ]
  },
  {
   "cell_type": "code",
   "execution_count": 47,
   "metadata": {},
   "outputs": [
    {
     "data": {
      "text/plain": [
       "{'C': 2.154434690031882, 'penalty': 'l2'}"
      ]
     },
     "execution_count": 47,
     "metadata": {},
     "output_type": "execute_result"
    }
   ],
   "source": [
    "clf_logit.best_params_"
   ]
  },
  {
   "cell_type": "code",
   "execution_count": 48,
   "metadata": {},
   "outputs": [
    {
     "data": {
      "text/plain": [
       "0.7877453243856811"
      ]
     },
     "execution_count": 48,
     "metadata": {},
     "output_type": "execute_result"
    }
   ],
   "source": [
    "clf_logit.best_score_"
   ]
  },
  {
   "cell_type": "code",
   "execution_count": 49,
   "metadata": {},
   "outputs": [
    {
     "data": {
      "text/plain": [
       "0.65357429210003"
      ]
     },
     "execution_count": 49,
     "metadata": {},
     "output_type": "execute_result"
    }
   ],
   "source": [
    "#Naive Bayes\n",
    "clf_gnb=GaussianNB().fit(X_vitals,y_vitals)\n",
    "np.mean(cross_val_score(clf_gnb,X_vitals,y_vitals,scoring=\"roc_auc\",cv=10))"
   ]
  },
  {
   "cell_type": "code",
   "execution_count": 50,
   "metadata": {},
   "outputs": [
    {
     "data": {
      "text/plain": [
       "0.757109339528008"
      ]
     },
     "execution_count": 50,
     "metadata": {},
     "output_type": "execute_result"
    }
   ],
   "source": [
    "#Adaboost\n",
    "clf_ada=AdaBoostClassifier().fit(X_vitals,y_vitals)\n",
    "np.mean(cross_val_score(clf_ada,X_vitals,y_vitals,scoring=\"roc_auc\",cv=10))"
   ]
  },
  {
   "cell_type": "code",
   "execution_count": 54,
   "metadata": {},
   "outputs": [
    {
     "data": {
      "text/plain": [
       "0.7791594424792778"
      ]
     },
     "execution_count": 54,
     "metadata": {},
     "output_type": "execute_result"
    }
   ],
   "source": [
    "#Gradient boosting\n",
    "clf_gb=GradientBoostingClassifier(criterion='friedman_mse',learning_rate=0.15,max_depth=5,max_features='sqrt',min_samples_split=0.245,n_estimators=10).fit(X_vitals,y_vitals)\n",
    "np.mean(cross_val_score(clf_gb,X_vitals,y_vitals,scoring=\"roc_auc\",cv=10))"
   ]
  },
  {
   "cell_type": "code",
   "execution_count": 55,
   "metadata": {},
   "outputs": [
    {
     "name": "stdout",
     "output_type": "stream",
     "text": [
      "0.7837528437047998\n",
      "{'C': 100, 'gamma': 0.0001, 'kernel': 'rbf'}\n",
      "SVC(C=100, cache_size=200, class_weight=None, coef0=0.0,\n",
      "  decision_function_shape='ovr', degree=3, gamma=0.0001, kernel='rbf',\n",
      "  max_iter=-1, probability=False, random_state=42, shrinking=True,\n",
      "  tol=0.001, verbose=False)\n"
     ]
    },
    {
     "name": "stderr",
     "output_type": "stream",
     "text": [
      "/root/anaconda3/lib/python3.7/site-packages/sklearn/model_selection/_search.py:841: DeprecationWarning: The default of the `iid` parameter will change from True to False in version 0.22 and will be removed in 0.24. This will change numeric results when test-set sizes are unequal.\n",
      "  DeprecationWarning)\n"
     ]
    }
   ],
   "source": [
    "sv_clf = SVC(random_state=42)\n",
    "\n",
    "param_grid = {'C': [ 0.0001, 0.001, 0.01, 1, 100, 1000, 2000, 2500, 3000], \n",
    "              'gamma': [ 0.01, 0.001, 0.002, 0.003, 0.004, 0.005, 0.0001], \n",
    "              'kernel': ['rbf']\n",
    "              }\n",
    "grid_sv = GridSearchCV(sv_clf, param_grid, cv=10, scoring=\"roc_auc\")\n",
    "grid_sv.fit(X_vitals,y_vitals)\n",
    "print(grid_sv.best_score_)\n",
    "print(grid_sv.best_params_)\n",
    "print(grid_sv.best_estimator_)"
   ]
  },
  {
   "cell_type": "code",
   "execution_count": 36,
   "metadata": {},
   "outputs": [
    {
     "data": {
      "text/html": [
       "<div>\n",
       "<style scoped>\n",
       "    .dataframe tbody tr th:only-of-type {\n",
       "        vertical-align: middle;\n",
       "    }\n",
       "\n",
       "    .dataframe tbody tr th {\n",
       "        vertical-align: top;\n",
       "    }\n",
       "\n",
       "    .dataframe thead th {\n",
       "        text-align: right;\n",
       "    }\n",
       "</style>\n",
       "<table border=\"1\" class=\"dataframe\">\n",
       "  <thead>\n",
       "    <tr style=\"text-align: right;\">\n",
       "      <th></th>\n",
       "      <th>AGE</th>\n",
       "      <th>bicarbonate</th>\n",
       "      <th>INR</th>\n",
       "      <th>MCH</th>\n",
       "      <th>AST</th>\n",
       "      <th>alkaline phosphatase</th>\n",
       "      <th>PH</th>\n",
       "      <th>creatinine</th>\n",
       "      <th>platelet</th>\n",
       "      <th>PT</th>\n",
       "      <th>...</th>\n",
       "      <th>BUN</th>\n",
       "      <th>ADMISSION_TYPE_EMERGENCY</th>\n",
       "      <th>ADMISSION_TYPE_URGENT</th>\n",
       "      <th>INSURANCE_Government</th>\n",
       "      <th>INSURANCE_Medicaid</th>\n",
       "      <th>INSURANCE_Medicare</th>\n",
       "      <th>INSURANCE_Private</th>\n",
       "      <th>INSURANCE_Self Pay</th>\n",
       "      <th>GENDER_F</th>\n",
       "      <th>GENDER_M</th>\n",
       "    </tr>\n",
       "  </thead>\n",
       "  <tbody>\n",
       "    <tr>\n",
       "      <th>0</th>\n",
       "      <td>63</td>\n",
       "      <td>-1.023701</td>\n",
       "      <td>-0.346204</td>\n",
       "      <td>1.481840</td>\n",
       "      <td>-0.080886</td>\n",
       "      <td>-0.003543</td>\n",
       "      <td>7.329011</td>\n",
       "      <td>-0.153149</td>\n",
       "      <td>-1.138339</td>\n",
       "      <td>-0.519319</td>\n",
       "      <td>...</td>\n",
       "      <td>0.747578</td>\n",
       "      <td>1</td>\n",
       "      <td>0</td>\n",
       "      <td>0</td>\n",
       "      <td>0</td>\n",
       "      <td>0</td>\n",
       "      <td>1</td>\n",
       "      <td>0</td>\n",
       "      <td>0</td>\n",
       "      <td>1</td>\n",
       "    </tr>\n",
       "    <tr>\n",
       "      <th>1</th>\n",
       "      <td>52</td>\n",
       "      <td>0.739248</td>\n",
       "      <td>-0.516399</td>\n",
       "      <td>2.043873</td>\n",
       "      <td>-0.142401</td>\n",
       "      <td>-0.345127</td>\n",
       "      <td>7.329011</td>\n",
       "      <td>-0.113796</td>\n",
       "      <td>-0.228127</td>\n",
       "      <td>-0.524291</td>\n",
       "      <td>...</td>\n",
       "      <td>-0.837562</td>\n",
       "      <td>1</td>\n",
       "      <td>0</td>\n",
       "      <td>0</td>\n",
       "      <td>0</td>\n",
       "      <td>1</td>\n",
       "      <td>0</td>\n",
       "      <td>0</td>\n",
       "      <td>0</td>\n",
       "      <td>1</td>\n",
       "    </tr>\n",
       "    <tr>\n",
       "      <th>2</th>\n",
       "      <td>74</td>\n",
       "      <td>0.380508</td>\n",
       "      <td>-0.634227</td>\n",
       "      <td>1.850674</td>\n",
       "      <td>-0.102507</td>\n",
       "      <td>-0.488951</td>\n",
       "      <td>0.483689</td>\n",
       "      <td>-0.236107</td>\n",
       "      <td>-0.567417</td>\n",
       "      <td>-0.413900</td>\n",
       "      <td>...</td>\n",
       "      <td>-1.126725</td>\n",
       "      <td>1</td>\n",
       "      <td>0</td>\n",
       "      <td>0</td>\n",
       "      <td>0</td>\n",
       "      <td>1</td>\n",
       "      <td>0</td>\n",
       "      <td>0</td>\n",
       "      <td>0</td>\n",
       "      <td>1</td>\n",
       "    </tr>\n",
       "  </tbody>\n",
       "</table>\n",
       "<p>3 rows × 29 columns</p>\n",
       "</div>"
      ],
      "text/plain": [
       "   AGE  bicarbonate       INR       MCH       AST  alkaline phosphatase  \\\n",
       "0   63    -1.023701 -0.346204  1.481840 -0.080886             -0.003543   \n",
       "1   52     0.739248 -0.516399  2.043873 -0.142401             -0.345127   \n",
       "2   74     0.380508 -0.634227  1.850674 -0.102507             -0.488951   \n",
       "\n",
       "         PH  creatinine  platelet        PT    ...          BUN  \\\n",
       "0  7.329011   -0.153149 -1.138339 -0.519319    ...     0.747578   \n",
       "1  7.329011   -0.113796 -0.228127 -0.524291    ...    -0.837562   \n",
       "2  0.483689   -0.236107 -0.567417 -0.413900    ...    -1.126725   \n",
       "\n",
       "   ADMISSION_TYPE_EMERGENCY  ADMISSION_TYPE_URGENT  INSURANCE_Government  \\\n",
       "0                         1                      0                     0   \n",
       "1                         1                      0                     0   \n",
       "2                         1                      0                     0   \n",
       "\n",
       "   INSURANCE_Medicaid  INSURANCE_Medicare  INSURANCE_Private  \\\n",
       "0                   0                   0                  1   \n",
       "1                   0                   1                  0   \n",
       "2                   0                   1                  0   \n",
       "\n",
       "   INSURANCE_Self Pay  GENDER_F  GENDER_M  \n",
       "0                   0         0         1  \n",
       "1                   0         0         1  \n",
       "2                   0         0         1  \n",
       "\n",
       "[3 rows x 29 columns]"
      ]
     },
     "execution_count": 36,
     "metadata": {},
     "output_type": "execute_result"
    }
   ],
   "source": [
    "X_vitals.head(3)"
   ]
  },
  {
   "cell_type": "code",
   "execution_count": 56,
   "metadata": {},
   "outputs": [
    {
     "name": "stdout",
     "output_type": "stream",
     "text": [
      "0) PH 0.13715513301186802\n",
      "1) lactate 0.09763613762115024\n",
      "2) bicarbonate 0.0874936562653367\n",
      "3) BUN 0.06985422983870258\n",
      "4) RBCDW 0.0579687072119808\n",
      "5) calcium 0.04405627756205111\n",
      "6) PT 0.041131593940348626\n",
      "7) platelet 0.039585366801260416\n",
      "8) creatinine 0.03940273107904974\n",
      "9) neutrophils 0.03747261940404252\n",
      "10) INR 0.03746756773477578\n",
      "11) AGE 0.037219496518751026\n",
      "12) AST 0.0361588123865119\n",
      "13) glucose 0.03467372121890153\n",
      "14) MCH 0.03385088723748777\n",
      "15) PTT 0.03354166231119151\n",
      "16) hematocrit 0.033243593742019885\n",
      "17) hemoglobin 0.03172388593356736\n",
      "18) lymphocytes 0.02861092731115317\n",
      "19) alkaline phosphatase 0.02499185259548725\n",
      "20) INSURANCE_Private 0.0039436227417674755\n",
      "21) GENDER_F 0.0031639606397002823\n",
      "22) INSURANCE_Medicare 0.003025989327699956\n",
      "23) GENDER_M 0.002828370055445245\n",
      "24) INSURANCE_Medicaid 0.0019829581780733286\n",
      "25) INSURANCE_Government 0.000683614729907028\n",
      "26) INSURANCE_Self Pay 0.0005991707892531986\n",
      "27) ADMISSION_TYPE_URGENT 0.00033258804490056664\n",
      "28) ADMISSION_TYPE_EMERGENCY 0.00020086576761496025\n"
     ]
    }
   ],
   "source": [
    "importances = rand_for.best_estimator_.feature_importances_\n",
    "indices = np.argsort(importances)[::-1]\n",
    "for f in range(X_vitals.shape[1]):\n",
    "    print (\"{}) {} {}\".format(f, X_vitals.columns[indices[f]], importances[indices[f]]))\n",
    "\n"
   ]
  },
  {
   "cell_type": "code",
   "execution_count": 57,
   "metadata": {},
   "outputs": [
    {
     "data": {
      "image/png": "[encoded data removed]",
      "text/plain": [
       "<Figure size 720x720 with 1 Axes>"
      ]
     },
     "metadata": {
      "needs_background": "light"
     },
     "output_type": "display_data"
    }
   ],
   "source": [
    "plt.figure(figsize=(10,10))\n",
    "plt.title('Feature Importances')\n",
    "plt.bar(range(X_vitals.shape[1]), importances[indices], color='lightblue', align='center')\n",
    "plt.xticks(range(X_vitals.shape[1]), X_vitals.columns[indices], rotation=90)\n",
    "plt.xlim([-1, X_vitals.shape[1]])\n",
    "plt.tight_layout()"
   ]
  },
  {
   "cell_type": "code",
   "execution_count": 114,
   "metadata": {},
   "outputs": [
    {
     "data": {
      "text/plain": [
       "Index(['SUBJECT_ID', 'HADM_ID', 'ADMITTIME', 'ADMISSION_TYPE', 'INSURANCE',\n",
       "       'ETHNICITY', 'mortality_period', 'LABEL', 'GENDER', 'DOB', 'AGE',\n",
       "       'bicarbonate', 'INR', 'MCH', 'AST', 'alkaline phosphatase', 'PH',\n",
       "       'creatinine', 'platelet', 'PT', 'PTT', 'lymphocytes', 'RBCDW',\n",
       "       'calcium', 'neutrophils', 'glucose', 'hematocrit', 'hemoglobin',\n",
       "       'lactate', 'BUN'],\n",
       "      dtype='object')"
      ]
     },
     "execution_count": 114,
     "metadata": {},
     "output_type": "execute_result"
    }
   ],
   "source": [
    "admission_lab.columns"
   ]
  },
  {
   "cell_type": "code",
   "execution_count": 113,
   "metadata": {},
   "outputs": [],
   "source": [
    "admission_lab.to_csv(\"Admission_lab.csv\")"
   ]
  }
 ],
 "metadata": {
  "kernelspec": {
   "display_name": "Python 3",
   "language": "python",
   "name": "python3"
  },
  "language_info": {
   "codemirror_mode": {
    "name": "ipython",
    "version": 3
   },
   "file_extension": ".py",
   "mimetype": "text/x-python",
   "name": "python",
   "nbconvert_exporter": "python",
   "pygments_lexer": "ipython3",
   "version": "3.7.0"
  }
 },
 "nbformat": 4,
 "nbformat_minor": 2
}
